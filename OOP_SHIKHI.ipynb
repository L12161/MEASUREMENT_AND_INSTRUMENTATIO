{
  "nbformat": 4,
  "nbformat_minor": 0,
  "metadata": {
    "colab": {
      "name": "OOP_SHIKHI.ipynb",
      "provenance": [],
      "authorship_tag": "ABX9TyPrEXuOdWwhZXFDvO+vp8kw",
      "include_colab_link": true
    },
    "kernelspec": {
      "name": "python3",
      "display_name": "Python 3"
    },
    "language_info": {
      "name": "python"
    }
  },
  "cells": [
    {
      "cell_type": "markdown",
      "metadata": {
        "id": "view-in-github",
        "colab_type": "text"
      },
      "source": [
        "<a href=\"https://colab.research.google.com/github/L12161/MEASUREMENT_AND_INSTRUMENTATIO/blob/main/OOP_SHIKHI.ipynb\" target=\"_parent\"><img src=\"https://colab.research.google.com/assets/colab-badge.svg\" alt=\"Open In Colab\"/></a>"
      ]
    },
    {
      "cell_type": "markdown",
      "metadata": {
        "id": "gWj7lxkVyvLq"
      },
      "source": [
        "# Heavily commented OOP alochona "
      ]
    },
    {
      "cell_type": "code",
      "metadata": {
        "id": "OkCxmsv2fzyO",
        "colab": {
          "base_uri": "https://localhost:8080/"
        },
        "outputId": "fde7e4a0-f1d4-464e-fbce-726e76c683ca"
      },
      "source": [
        "x=1\n",
        "type(x)"
      ],
      "execution_count": 1,
      "outputs": [
        {
          "output_type": "execute_result",
          "data": {
            "text/plain": [
              "int"
            ]
          },
          "metadata": {
            "tags": []
          },
          "execution_count": 1
        }
      ]
    },
    {
      "cell_type": "markdown",
      "metadata": {
        "id": "xv0e_PqTMHVn"
      },
      "source": [
        "What is an object bruh? \n",
        "We see objects all the time. \n"
      ]
    },
    {
      "cell_type": "code",
      "metadata": {
        "colab": {
          "base_uri": "https://localhost:8080/"
        },
        "id": "pTjV5OC8MWAD",
        "outputId": "f436fb91-f486-4edc-9cb3-254aec8f8abd"
      },
      "source": [
        "print(type(x))"
      ],
      "execution_count": 2,
      "outputs": [
        {
          "output_type": "stream",
          "text": [
            "<class 'int'>\n"
          ],
          "name": "stdout"
        }
      ]
    },
    {
      "cell_type": "markdown",
      "metadata": {
        "id": "Nw_j6iv6Ma-W"
      },
      "source": [
        "Woah, whats with that \"class\" infront of the int?? I was only expecting just an 'int'. This is actually an object now. \n",
        "We have created an object named x, which is an integer type object , and the value of the object is 1. \n",
        "Let's try the same thing with a function"
      ]
    },
    {
      "cell_type": "code",
      "metadata": {
        "colab": {
          "base_uri": "https://localhost:8080/"
        },
        "id": "aScGioaXMZj2",
        "outputId": "eec7d993-fe28-4f9d-e263-66ebfe9e9429"
      },
      "source": [
        "def hello():\n",
        "  print(\"Hello\")\n",
        "print(type(hello))"
      ],
      "execution_count": 3,
      "outputs": [
        {
          "output_type": "stream",
          "text": [
            "<class 'function'>\n"
          ],
          "name": "stdout"
        }
      ]
    },
    {
      "cell_type": "markdown",
      "metadata": {
        "id": "50E1l2ONNGSL"
      },
      "source": [
        "bruh, this is also an object. This is a function object. \n",
        "Whatever you create something in python, it will be an object. \n",
        "Type of an object gives an idea of the restrictions of different possible operations on an object. let's explore METHODS, METHODS are something you can perform on an object"
      ]
    },
    {
      "cell_type": "code",
      "metadata": {
        "colab": {
          "base_uri": "https://localhost:8080/"
        },
        "id": "9CKtQBRuNEnd",
        "outputId": "4cab812a-8dc0-419d-a082-a9cd3fea876f"
      },
      "source": [
        "string=\"hello\"\n",
        "print(string.upper())"
      ],
      "execution_count": 4,
      "outputs": [
        {
          "output_type": "stream",
          "text": [
            "HELLO\n"
          ],
          "name": "stdout"
        }
      ]
    },
    {
      "cell_type": "markdown",
      "metadata": {
        "id": "Jfc3uj87N7l-"
      },
      "source": [
        "bruh, here the .upper() is a method. The method .upper() is acting on a stringtype object. So, how is a method different from a function?\n",
        "Welp, METHOD is actually a FUNCTION that is defined inside a CLASS\n"
      ]
    },
    {
      "cell_type": "markdown",
      "metadata": {
        "id": "3WXVrEL1OP3h"
      },
      "source": [
        "**Creating Class**"
      ]
    },
    {
      "cell_type": "code",
      "metadata": {
        "colab": {
          "base_uri": "https://localhost:8080/",
          "height": 54
        },
        "id": "yGScmw-RN5dM",
        "outputId": "456e2d90-b163-4dcc-e209-112d684211fa"
      },
      "source": [
        "class dog:\n",
        "  '''\n",
        "  here, bark and sleep are two methods, defined for the class 'dog'\n",
        "  All of our methods will start with the parameter 'self'. What does this parameter mean and how does this parameter work - you might be asking.. welp, I don't know yet\n",
        "\n",
        "  '''\n",
        "  def bark(self):\n",
        "    print(\"bark\")\n",
        "  def sleep(self):\n",
        "    print(\"zzzzz\")\n",
        "\n",
        "d = dog()\n",
        "print(d)\n",
        "'''\n",
        "assigning a variable d , an instance of class dog.\n",
        "I like to think of the 'class dog:' as the cookie cutter and 'dog()' as the cookie made from the cutter\n",
        "\n",
        "'''   "
      ],
      "execution_count": 5,
      "outputs": [
        {
          "output_type": "stream",
          "text": [
            "<__main__.dog object at 0x7f08e28a71d0>\n"
          ],
          "name": "stdout"
        },
        {
          "output_type": "execute_result",
          "data": {
            "application/vnd.google.colaboratory.intrinsic+json": {
              "type": "string"
            },
            "text/plain": [
              "\"\\nassigning a variable d , an instance of class dog.\\nI like to think of the 'class dog:' as the cookie cutter and 'dog()' as the cookie made from the cutter\\n\\n\""
            ]
          },
          "metadata": {
            "tags": []
          },
          "execution_count": 5
        }
      ]
    },
    {
      "cell_type": "markdown",
      "metadata": {
        "id": "zzKCCbJ-P3vL"
      },
      "source": [
        "Now, what tf does these __main__ mean??? bruh. \n",
        "These main is called a module. The default module is 'main'. \n",
        "Idk what modules is, yet"
      ]
    },
    {
      "cell_type": "code",
      "metadata": {
        "colab": {
          "base_uri": "https://localhost:8080/"
        },
        "id": "U0beOwcNP1m6",
        "outputId": "3a430bab-3c4d-43c6-ca5f-55c558dea079"
      },
      "source": [
        "d.bark()"
      ],
      "execution_count": 6,
      "outputs": [
        {
          "output_type": "stream",
          "text": [
            "bark\n"
          ],
          "name": "stdout"
        }
      ]
    },
    {
      "cell_type": "code",
      "metadata": {
        "colab": {
          "base_uri": "https://localhost:8080/"
        },
        "id": "KgJHDMdrQJmA",
        "outputId": "094eee4c-9335-4b1e-cbdf-e7e4a7c7d365"
      },
      "source": [
        "d.sleep()"
      ],
      "execution_count": 7,
      "outputs": [
        {
          "output_type": "stream",
          "text": [
            "zzzzz\n"
          ],
          "name": "stdout"
        }
      ]
    },
    {
      "cell_type": "markdown",
      "metadata": {
        "id": "npjPxWZjQPP3"
      },
      "source": [
        "Conventionally , we use capital letters to start the name of a class. "
      ]
    },
    {
      "cell_type": "code",
      "metadata": {
        "colab": {
          "base_uri": "https://localhost:8080/"
        },
        "id": "4qNskswBQK6w",
        "outputId": "8b39a3de-4ef4-4e00-ccf6-d4aec350776b"
      },
      "source": [
        "# We can make methods and pass parameters to them too. \n",
        "class one_up:\n",
        "  def add_one(self,given_variable):\n",
        "    return given_variable+ 1\n",
        "just_a_variable = one_up()\n",
        "just_a_variable.add_one(4)"
      ],
      "execution_count": 8,
      "outputs": [
        {
          "output_type": "execute_result",
          "data": {
            "text/plain": [
              "5"
            ]
          },
          "metadata": {
            "tags": []
          },
          "execution_count": 8
        }
      ]
    },
    {
      "cell_type": "markdown",
      "metadata": {
        "id": "Cy038i1iRKSu"
      },
      "source": [
        "# **So, what is the init method???**\n",
        "\n",
        "Init instantiates the class whenever it is called. "
      ]
    },
    {
      "cell_type": "code",
      "metadata": {
        "id": "lRX9V1f4RDHO",
        "colab": {
          "base_uri": "https://localhost:8080/"
        },
        "outputId": "b3409053-3ff8-4629-c777-378392839bc2"
      },
      "source": [
        "class dog:\n",
        "  def __init__(self,name,no_name=2):\n",
        "    self.name = name # we created attribute of class Dog, which denotes a name\n",
        "    self.no_name = no_name\n",
        "    print(no_name)\n",
        "    \n",
        "  def bark(self):\n",
        "    print(\"bark\")\n",
        "  def sleep(self):\n",
        "    print(\"zzzzz\")\n",
        "\n",
        "d = dog(\"you can write anything, string, number, array here\",\"this one goes to no_name\")"
      ],
      "execution_count": 15,
      "outputs": [
        {
          "output_type": "stream",
          "text": [
            "this one goes to no_name\n"
          ],
          "name": "stdout"
        }
      ]
    },
    {
      "cell_type": "markdown",
      "metadata": {
        "id": "zAXNnoSfmgmo"
      },
      "source": [
        "Woah, the name gets printed right away. The attribute gets executed immediately, without explicit mention. These attributes can be assigned values in the init section, but you can again assign stuffs to it, no worries. So, is attribute like a variable in a class? What makes a attribute different from a variable? "
      ]
    },
    {
      "cell_type": "markdown",
      "metadata": {
        "id": "bIimeQcroyMu"
      },
      "source": [
        "We use objects when we know we have to re-use a certain variable in future, a lot. This avoids the problem of creating multiple multiple variables. \n"
      ]
    },
    {
      "cell_type": "markdown",
      "metadata": {
        "id": "vN3wDuFwpKAC"
      },
      "source": [
        "# **Making a more complex object**\n",
        "\n",
        "Why would we use multiple classes? \n"
      ]
    },
    {
      "cell_type": "code",
      "metadata": {
        "colab": {
          "base_uri": "https://localhost:8080/"
        },
        "id": "W8Ma836cme4F",
        "outputId": "9bb938c2-d2d6-4aeb-ceb8-41790a279426"
      },
      "source": [
        "class Student:\n",
        "  def __init__ (self,name,age,grade):\n",
        "    # defining three attributes for each student\n",
        "    self.name = name\n",
        "    self.age = age\n",
        "    self.grade = grade\n",
        "\n",
        "  def get_grade(self):\n",
        "    return self.grade\n",
        "\n",
        "class Course:\n",
        "    def __init__ (self,name,max_student):\n",
        "      self.name = name\n",
        "      self.max_student = max_student\n",
        "      self.stud = [] # creating a blank attribute \n",
        "      self.is_active = False\n",
        "\n",
        "    def add_student(self,stud):\n",
        "      if len(self.stud) < self.max_student :\n",
        "        self.stud.append(stud) #instant of a student pbject\n",
        "        #print(stud)\n",
        "        return True\n",
        "        \n",
        "      else:\n",
        "        return False\n",
        "    # write a method that can calculate the average grade of the students in the course.\n",
        "    def get_avg_grade(self):\n",
        "      value = 0\n",
        "      for studento in self.stud:\n",
        "        value += stud.get_grade()\n",
        "        return value / len(self.stud)\n",
        "\n",
        "\n",
        "s1 = Student(\"Time\",19,95)\n",
        "s2 = Student(\"Bill\",19,75)\n",
        "s3 = Student(\"Jill\",18,54)\n",
        "\n",
        "courzez = Course(\"Sci\",2)\n",
        "courzez.add_student(s1)\n",
        "courzez.add_student(s2)\n",
        "\n",
        "print(courzez.stud[0].name)\n"
      ],
      "execution_count": 33,
      "outputs": [
        {
          "output_type": "stream",
          "text": [
            "Time\n"
          ],
          "name": "stdout"
        }
      ]
    },
    {
      "cell_type": "markdown",
      "metadata": {
        "id": "QtmD4Lf9uNw7"
      },
      "source": [
        "# The Idea  Behind Inheritence \n",
        "\n",
        "When you have two very simillar classes. "
      ]
    },
    {
      "cell_type": "code",
      "metadata": {
        "colab": {
          "base_uri": "https://localhost:8080/"
        },
        "id": "Rz-82n6dtpKN",
        "outputId": "d6d8e56f-6aa4-4c2f-8d31-857242ff6641"
      },
      "source": [
        "class Cat:\n",
        "  def __init__(self,name,age):\n",
        "    self.name = name\n",
        "    self.age = age\n",
        "  def speak(self):\n",
        "    print(\"meow\")\n",
        "\n",
        "class Dog:\n",
        "  def __init__(self,name,age):\n",
        "    self.name = name\n",
        "    self.age = age\n",
        "  def speak(self):\n",
        "    print(\"grrr\")\n",
        "\n",
        "# these two classes are too simillar. Just one line of code is different. Here, we can use inheritence, and use one class instead. \n",
        "c = Cat(\"bongkim\",12)\n",
        "d = Dog(\"Toggi\",10)\n",
        "\n",
        "c.speak()\n",
        "d.speak()"
      ],
      "execution_count": 41,
      "outputs": [
        {
          "output_type": "stream",
          "text": [
            "meow\n",
            "grrr\n"
          ],
          "name": "stdout"
        }
      ]
    },
    {
      "cell_type": "code",
      "metadata": {
        "id": "ET0JYKvFwu5a"
      },
      "source": [
        "# here, we will use inheritance, and reudce the need to write the init portion multiple times. \n",
        "class Pet:          # a generalized class\n",
        "  def __init__(self,name='anon',age='0'):\n",
        "    self.name = name\n",
        "    self.age = age\n",
        "  def show(self):\n",
        "    print(f\"I am {self.name} and I am {self.age} years old\")  \n",
        "\n",
        "class Cat(Pet):       # here we inherit the upper level class\n",
        "  def speak(self):\n",
        "    print(\"meow\")\n",
        "class Dog(Pet):\n",
        "  def speak(self):\n",
        "    print(\"grrr\")"
      ],
      "execution_count": 42,
      "outputs": []
    },
    {
      "cell_type": "code",
      "metadata": {
        "colab": {
          "base_uri": "https://localhost:8080/"
        },
        "id": "w2HkTyf3x9e4",
        "outputId": "cd4db475-d3ce-45d2-aad9-37a8c600b150"
      },
      "source": [
        "c = Cat(\"bongkim\",12)\n",
        "d = Dog()\n",
        "\n",
        "c.speak()\n",
        "d.speak()"
      ],
      "execution_count": 44,
      "outputs": [
        {
          "output_type": "stream",
          "text": [
            "meow\n",
            "grrr\n"
          ],
          "name": "stdout"
        }
      ]
    },
    {
      "cell_type": "markdown",
      "metadata": {
        "id": "KwX0gyAAyDlz"
      },
      "source": [
        "So, we can see that the attributes defined in Pet is getting used in Cat. This is called inheritance. Now, let's try using a method from the inherited class."
      ]
    },
    {
      "cell_type": "code",
      "metadata": {
        "colab": {
          "base_uri": "https://localhost:8080/"
        },
        "id": "yZzvBKEsx-PQ",
        "outputId": "a6f07c1e-ea6a-4327-bbb2-b6ce81a18b5f"
      },
      "source": [
        "d.show()"
      ],
      "execution_count": 47,
      "outputs": [
        {
          "output_type": "stream",
          "text": [
            "I am anon and I am 0 years old\n"
          ],
          "name": "stdout"
        }
      ]
    },
    {
      "cell_type": "markdown",
      "metadata": {
        "id": "2XoxK8eNyYsz"
      },
      "source": [
        "So, we didn;t have the show() method defined for Cat, but still we can use the function. This shows that the method got inherited to Cat. The class we inherited from is the Mother class, and the class we inherited to , is the child class. (obviously named similar to how normal inheritance works :3)\n",
        "The method in the mother class can be over-written in the child class. "
      ]
    },
    {
      "cell_type": "markdown",
      "metadata": {
        "id": "itC4P6sd0WUZ"
      },
      "source": [
        "# Static In-Class Methods and Attributes\n",
        "Class attribrutes ki? \n",
        "Class Methods ki? \n",
        "Eshob jante eii cell gulo dekhun"
      ]
    },
    {
      "cell_type": "code",
      "metadata": {
        "id": "UqUMYlhH0cJt"
      },
      "source": [
        "'''\n",
        "We had self everywhere in previous classes. \n",
        "What is a class attribute btw? These will remain same for any instance. \n",
        "'''\n",
        "\n",
        "class IEEE():\n",
        "  is_lame = True # No matter what branch, they lame\n",
        "\n",
        "  def __init__ (self,name):\n",
        "    self.name = name\n",
        "\n",
        "jodu = IEEE(\"BUET\")\n",
        "kodu = IEEE(\"MIT\")  "
      ],
      "execution_count": 48,
      "outputs": []
    },
    {
      "cell_type": "code",
      "metadata": {
        "colab": {
          "base_uri": "https://localhost:8080/"
        },
        "id": "Wf3RR0wb1NPl",
        "outputId": "dc6253a1-612a-44a1-f1d8-c5999b2a41d2"
      },
      "source": [
        "jodu.is_lame"
      ],
      "execution_count": 49,
      "outputs": [
        {
          "output_type": "execute_result",
          "data": {
            "text/plain": [
              "True"
            ]
          },
          "metadata": {
            "tags": []
          },
          "execution_count": 49
        }
      ]
    },
    {
      "cell_type": "code",
      "metadata": {
        "colab": {
          "base_uri": "https://localhost:8080/"
        },
        "id": "AM2Mt8zO1PG0",
        "outputId": "f37c9dd2-603f-44a2-bf7e-632a96160264"
      },
      "source": [
        "kodu.is_lame"
      ],
      "execution_count": 50,
      "outputs": [
        {
          "output_type": "execute_result",
          "data": {
            "text/plain": [
              "True"
            ]
          },
          "metadata": {
            "tags": []
          },
          "execution_count": 50
        }
      ]
    },
    {
      "cell_type": "code",
      "metadata": {
        "colab": {
          "base_uri": "https://localhost:8080/"
        },
        "id": "G7NjF9X01Rpc",
        "outputId": "6bd7c791-80ac-4278-cfd6-6a39c7dfec8f"
      },
      "source": [
        "# Now, what if some miraculous thing takes place and IEEE becomes great again. Let's change the class\n",
        "# The output changes for all the instances. You don;t have to change them separately anymore. \n",
        "IEEE.is_lame = False\n",
        "print(jodu.is_lame)\n",
        "print(kodu.is_lame)"
      ],
      "execution_count": 52,
      "outputs": [
        {
          "output_type": "stream",
          "text": [
            "False\n",
            "False\n"
          ],
          "name": "stdout"
        }
      ]
    },
    {
      "cell_type": "code",
      "metadata": {
        "id": "8SMh5UNc1kwK"
      },
      "source": [
        "'''\n",
        "Class methods are a bit different from the regular methods. \n",
        "We use decorator to denote a class method. \n",
        "They are not referencing self, rather they are referencing class.\n",
        "'''\n",
        "\n"
      ],
      "execution_count": null,
      "outputs": []
    }
  ]
}